{
 "cells": [
  {
   "cell_type": "code",
   "execution_count": 1,
   "id": "501933a9",
   "metadata": {},
   "outputs": [],
   "source": [
    "#Gerekli kütüphanelerimizi çağırıyoruz.\n",
    "import cv2\n",
    "import numpy as np\n",
    "\n",
    "#Kendi kameramızı çağırıyoruz. ve değişkene atıyoruz\n",
    "video_cap = cv2.VideoCapture(0)\n",
    "\n",
    "#Yüz ve Göz Yakalma Modellerimiz isimleri.\n",
    "cascade_face = \"haarcascade_frontalface_default.xml\"\n",
    "cascade_eye = \"haarcascade_eye.xml\"\n",
    "\n",
    "#Yüz ve Göz Yakalma Modellerimiz. Değişkene atıyoruz.\n",
    "face_casc_face = cv2.CascadeClassifier(cascade_face)\n",
    "face_casc_eye = cv2.CascadeClassifier(cascade_eye)\n",
    "\n",
    "#Videolar resimlerin hızlı geçişlernden oluşur. Bu nedenle resim karelerini hıslı bir şekilde almak için while döngüsünü kullanıyoruz\n",
    "while True:\n",
    "    #Resim karelerini alıyoruz okutuyoruz.\n",
    "    #return ediyoruz\n",
    "    ret,cap = video_cap.read()\n",
    "    \n",
    "    # Eğer ret bir şey döndürmüyorsa uyarı istiyoruz.\n",
    "    if ret == False:\n",
    "        print(\"uyarı!!!\")\n",
    "    \n",
    "    #Görüntümüzü gri yapıyoruz.\n",
    "    gray = cv2.cvtColor(cap,cv2.COLOR_BGR2GRAY)\n",
    "    #modelimiz grin renk içerisinde algılama yapıyor.\n",
    "    face_rect_face = face_casc_face.detectMultiScale(gray,1.5,5)\n",
    "    \n",
    "    #Yüz bulununca dikdörtgen içine alıyoruz.\n",
    "    for (x,y,w,h) in face_rect_face:\n",
    "        #algılanan yüz için dikdörtgen oluşturduk bunu img değişkenine atadık.\n",
    "        img = cv2.rectangle(cap,(x,y),(x+w,y+h),(255,0,0),2)\n",
    "        roi_gray = gray[y:y+h, x:x+w]\n",
    "        roi_color = img[y:y+h, x:x+w]\n",
    "        #Yüz içinde bulunan gözleri algılıyoruz.\n",
    "        eyes = face_casc_eye.detectMultiScale(roi_gray,1.1,6)\n",
    "        \n",
    "        for (ex,ey,ew,eh) in eyes:\n",
    "            cv2.rectangle(roi_color,(ex,ey),(ex+ew,ey+eh),(0,255,0),2)\n",
    "    \n",
    "    cv2.imshow(\"Video\",cap)\n",
    "    #Videoyu manuel kapatmak için q tuşuna clickliyoruz.\n",
    "    if cv2.waitKey(1) & 0xFF == ord('q'):\n",
    "        break\n",
    "video_cap.release()\n",
    "cv2.destroyAllWindows()"
   ]
  },
  {
   "cell_type": "code",
   "execution_count": 2,
   "id": "56fb9940",
   "metadata": {},
   "outputs": [
    {
     "name": "stdout",
     "output_type": "stream",
     "text": [
      "roi_gray (122, 122)\n",
      "roi_color (122, 122, 3)\n"
     ]
    }
   ],
   "source": [
    "roi_gray = gray[y:y+h, x:x+w]\n",
    "roi_color = img[y:y+h, x:x+w]\n",
    "print(\"roi_gray\",roi_gray.shape)\n",
    "print(\"roi_color\",roi_color.shape)"
   ]
  }
 ],
 "metadata": {
  "kernelspec": {
   "display_name": "Python 3 (ipykernel)",
   "language": "python",
   "name": "python3"
  },
  "language_info": {
   "codemirror_mode": {
    "name": "ipython",
    "version": 3
   },
   "file_extension": ".py",
   "mimetype": "text/x-python",
   "name": "python",
   "nbconvert_exporter": "python",
   "pygments_lexer": "ipython3",
   "version": "3.9.13"
  }
 },
 "nbformat": 4,
 "nbformat_minor": 5
}
